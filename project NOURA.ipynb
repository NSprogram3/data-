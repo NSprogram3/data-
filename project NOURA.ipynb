{
 "cells": [
  {
   "cell_type": "code",
   "execution_count": 72,
   "id": "f1cea6f1",
   "metadata": {},
   "outputs": [],
   "source": [
    "\n"
   ]
  },
  {
   "cell_type": "markdown",
   "id": "d95921a1",
   "metadata": {},
   "source": [
    "client is a large MNC and they have 9 broad verticals across the organisation.."
   ]
  },
  {
   "cell_type": "code",
   "execution_count": 73,
   "id": "32d811dc",
   "metadata": {},
   "outputs": [],
   "source": [
    "import pandas as pd\n",
    "from pandas import DataFrame, Series\n",
    "import numpy as np\n",
    "import matplotlib.pyplot as plt\n",
    "from pylab import rcParams\n",
    "import seaborn as sns\n",
    "%matplotlib inline\n",
    "rcParams['figure.figsize'] = 10,10\n",
    "rcParams['font.size'] = 15\n",
    "sns.set_style('whitegrid')\n",
    "sns.set_palette(\"pastel\")"
   ]
  },
  {
   "cell_type": "code",
   "execution_count": 74,
   "id": "b85deaf3",
   "metadata": {},
   "outputs": [],
   "source": [
    "df=pd.read_csv(\"C:/Users/lenovo/Downloads/employee_promotion.csv/employee_promotion.csv\")"
   ]
  },
  {
   "cell_type": "code",
   "execution_count": 6,
   "id": "a67a869b",
   "metadata": {},
   "outputs": [
    {
     "data": {
      "text/html": [
       "<div>\n",
       "<style scoped>\n",
       "    .dataframe tbody tr th:only-of-type {\n",
       "        vertical-align: middle;\n",
       "    }\n",
       "\n",
       "    .dataframe tbody tr th {\n",
       "        vertical-align: top;\n",
       "    }\n",
       "\n",
       "    .dataframe thead th {\n",
       "        text-align: right;\n",
       "    }\n",
       "</style>\n",
       "<table border=\"1\" class=\"dataframe\">\n",
       "  <thead>\n",
       "    <tr style=\"text-align: right;\">\n",
       "      <th></th>\n",
       "      <th>employee_id</th>\n",
       "      <th>department</th>\n",
       "      <th>region</th>\n",
       "      <th>education</th>\n",
       "      <th>gender</th>\n",
       "      <th>recruitment_channel</th>\n",
       "      <th>no_of_trainings</th>\n",
       "      <th>age</th>\n",
       "      <th>previous_year_rating</th>\n",
       "      <th>length_of_service</th>\n",
       "      <th>awards_won</th>\n",
       "      <th>avg_training_score</th>\n",
       "      <th>is_promoted</th>\n",
       "    </tr>\n",
       "  </thead>\n",
       "  <tbody>\n",
       "    <tr>\n",
       "      <th>0</th>\n",
       "      <td>65438</td>\n",
       "      <td>Sales &amp; Marketing</td>\n",
       "      <td>region_7</td>\n",
       "      <td>Master's &amp; above</td>\n",
       "      <td>f</td>\n",
       "      <td>sourcing</td>\n",
       "      <td>1</td>\n",
       "      <td>35</td>\n",
       "      <td>5.0</td>\n",
       "      <td>8</td>\n",
       "      <td>0</td>\n",
       "      <td>49.0</td>\n",
       "      <td>0</td>\n",
       "    </tr>\n",
       "    <tr>\n",
       "      <th>1</th>\n",
       "      <td>65141</td>\n",
       "      <td>Operations</td>\n",
       "      <td>region_22</td>\n",
       "      <td>Bachelor's</td>\n",
       "      <td>m</td>\n",
       "      <td>other</td>\n",
       "      <td>1</td>\n",
       "      <td>30</td>\n",
       "      <td>5.0</td>\n",
       "      <td>4</td>\n",
       "      <td>0</td>\n",
       "      <td>60.0</td>\n",
       "      <td>0</td>\n",
       "    </tr>\n",
       "    <tr>\n",
       "      <th>2</th>\n",
       "      <td>7513</td>\n",
       "      <td>Sales &amp; Marketing</td>\n",
       "      <td>region_19</td>\n",
       "      <td>Bachelor's</td>\n",
       "      <td>m</td>\n",
       "      <td>sourcing</td>\n",
       "      <td>1</td>\n",
       "      <td>34</td>\n",
       "      <td>3.0</td>\n",
       "      <td>7</td>\n",
       "      <td>0</td>\n",
       "      <td>50.0</td>\n",
       "      <td>0</td>\n",
       "    </tr>\n",
       "    <tr>\n",
       "      <th>3</th>\n",
       "      <td>2542</td>\n",
       "      <td>Sales &amp; Marketing</td>\n",
       "      <td>region_23</td>\n",
       "      <td>Bachelor's</td>\n",
       "      <td>m</td>\n",
       "      <td>other</td>\n",
       "      <td>2</td>\n",
       "      <td>39</td>\n",
       "      <td>1.0</td>\n",
       "      <td>10</td>\n",
       "      <td>0</td>\n",
       "      <td>50.0</td>\n",
       "      <td>0</td>\n",
       "    </tr>\n",
       "    <tr>\n",
       "      <th>4</th>\n",
       "      <td>48945</td>\n",
       "      <td>Technology</td>\n",
       "      <td>region_26</td>\n",
       "      <td>Bachelor's</td>\n",
       "      <td>m</td>\n",
       "      <td>other</td>\n",
       "      <td>1</td>\n",
       "      <td>45</td>\n",
       "      <td>3.0</td>\n",
       "      <td>2</td>\n",
       "      <td>0</td>\n",
       "      <td>73.0</td>\n",
       "      <td>0</td>\n",
       "    </tr>\n",
       "  </tbody>\n",
       "</table>\n",
       "</div>"
      ],
      "text/plain": [
       "   employee_id         department     region         education gender  \\\n",
       "0        65438  Sales & Marketing   region_7  Master's & above      f   \n",
       "1        65141         Operations  region_22        Bachelor's      m   \n",
       "2         7513  Sales & Marketing  region_19        Bachelor's      m   \n",
       "3         2542  Sales & Marketing  region_23        Bachelor's      m   \n",
       "4        48945         Technology  region_26        Bachelor's      m   \n",
       "\n",
       "  recruitment_channel  no_of_trainings  age  previous_year_rating  \\\n",
       "0            sourcing                1   35                   5.0   \n",
       "1               other                1   30                   5.0   \n",
       "2            sourcing                1   34                   3.0   \n",
       "3               other                2   39                   1.0   \n",
       "4               other                1   45                   3.0   \n",
       "\n",
       "   length_of_service  awards_won  avg_training_score  is_promoted  \n",
       "0                  8           0                49.0            0  \n",
       "1                  4           0                60.0            0  \n",
       "2                  7           0                50.0            0  \n",
       "3                 10           0                50.0            0  \n",
       "4                  2           0                73.0            0  "
      ]
     },
     "execution_count": 6,
     "metadata": {},
     "output_type": "execute_result"
    }
   ],
   "source": [
    "df.head() #print multiple rows"
   ]
  },
  {
   "cell_type": "code",
   "execution_count": 7,
   "id": "77556e98",
   "metadata": {},
   "outputs": [
    {
     "data": {
      "text/plain": [
       "(54808, 13)"
      ]
     },
     "execution_count": 7,
     "metadata": {},
     "output_type": "execute_result"
    }
   ],
   "source": [
    "df.shape #function that prints the number of row and columns in table"
   ]
  },
  {
   "cell_type": "code",
   "execution_count": 76,
   "id": "d93bb929",
   "metadata": {},
   "outputs": [
    {
     "name": "stdout",
     "output_type": "stream",
     "text": [
      "<class 'pandas.core.frame.DataFrame'>\n",
      "RangeIndex: 54808 entries, 0 to 54807\n",
      "Data columns (total 13 columns):\n",
      " #   Column                Non-Null Count  Dtype  \n",
      "---  ------                --------------  -----  \n",
      " 0   employee_id           54808 non-null  int64  \n",
      " 1   department            54808 non-null  object \n",
      " 2   region                54808 non-null  object \n",
      " 3   education             52399 non-null  object \n",
      " 4   gender                54808 non-null  object \n",
      " 5   recruitment_channel   54808 non-null  object \n",
      " 6   no_of_trainings       54808 non-null  int64  \n",
      " 7   age                   54808 non-null  int64  \n",
      " 8   previous_year_rating  50684 non-null  float64\n",
      " 9   length_of_service     54808 non-null  int64  \n",
      " 10  awards_won            54808 non-null  int64  \n",
      " 11  avg_training_score    52248 non-null  float64\n",
      " 12  is_promoted           54808 non-null  int64  \n",
      "dtypes: float64(2), int64(6), object(5)\n",
      "memory usage: 5.4+ MB\n"
     ]
    }
   ],
   "source": [
    "df.info() #verify data and verify its type"
   ]
  },
  {
   "cell_type": "code",
   "execution_count": 51,
   "id": "e90bac73",
   "metadata": {},
   "outputs": [
    {
     "data": {
      "text/plain": [
       "employee_id             False\n",
       "department              False\n",
       "region                  False\n",
       "education                True\n",
       "gender                  False\n",
       "recruitment_channel     False\n",
       "no_of_trainings         False\n",
       "age                     False\n",
       "previous_year_rating     True\n",
       "length_of_service       False\n",
       "awards_won              False\n",
       "avg_training_score       True\n",
       "is_promoted             False\n",
       "dtype: bool"
      ]
     },
     "execution_count": 51,
     "metadata": {},
     "output_type": "execute_result"
    }
   ],
   "source": [
    "df.isna().any() #That there are no null values in the data"
   ]
  },
  {
   "cell_type": "code",
   "execution_count": 52,
   "id": "b12328c7",
   "metadata": {},
   "outputs": [],
   "source": [
    "df['previous_year_rating'].fillna(0,inplace=True)"
   ]
  },
  {
   "cell_type": "code",
   "execution_count": 53,
   "id": "351ac5e8",
   "metadata": {},
   "outputs": [
    {
     "data": {
      "text/plain": [
       "employee_id             False\n",
       "department              False\n",
       "region                  False\n",
       "education                True\n",
       "gender                  False\n",
       "recruitment_channel     False\n",
       "no_of_trainings         False\n",
       "age                     False\n",
       "previous_year_rating    False\n",
       "length_of_service       False\n",
       "awards_won              False\n",
       "avg_training_score       True\n",
       "is_promoted             False\n",
       "dtype: bool"
      ]
     },
     "execution_count": 53,
     "metadata": {},
     "output_type": "execute_result"
    }
   ],
   "source": [
    "df.isna().any()"
   ]
  },
  {
   "cell_type": "code",
   "execution_count": 54,
   "id": "4bdaa355",
   "metadata": {},
   "outputs": [
    {
     "data": {
      "text/plain": [
       "employee_id             False\n",
       "department              False\n",
       "region                  False\n",
       "education                True\n",
       "gender                  False\n",
       "recruitment_channel     False\n",
       "no_of_trainings         False\n",
       "age                     False\n",
       "previous_year_rating    False\n",
       "length_of_service       False\n",
       "awards_won              False\n",
       "avg_training_score      False\n",
       "is_promoted             False\n",
       "dtype: bool"
      ]
     },
     "execution_count": 54,
     "metadata": {},
     "output_type": "execute_result"
    }
   ],
   "source": [
    "df['avg_training_score'].fillna(0,inplace=True)\n",
    "df.isna().any()"
   ]
  },
  {
   "cell_type": "code",
   "execution_count": 55,
   "id": "59eef9c5",
   "metadata": {},
   "outputs": [
    {
     "data": {
      "text/plain": [
       "employee_id             False\n",
       "department              False\n",
       "region                  False\n",
       "education               False\n",
       "gender                  False\n",
       "recruitment_channel     False\n",
       "no_of_trainings         False\n",
       "age                     False\n",
       "previous_year_rating    False\n",
       "length_of_service       False\n",
       "awards_won              False\n",
       "avg_training_score      False\n",
       "is_promoted             False\n",
       "dtype: bool"
      ]
     },
     "execution_count": 55,
     "metadata": {},
     "output_type": "execute_result"
    }
   ],
   "source": [
    "df['education'].fillna(0,inplace=True)\n",
    "df.isna().any()"
   ]
  },
  {
   "cell_type": "code",
   "execution_count": null,
   "id": "1f7a5c56",
   "metadata": {},
   "outputs": [],
   "source": []
  },
  {
   "cell_type": "code",
   "execution_count": null,
   "id": "c00f6cc5",
   "metadata": {},
   "outputs": [],
   "source": []
  },
  {
   "cell_type": "code",
   "execution_count": 8,
   "id": "f1063d2e",
   "metadata": {},
   "outputs": [],
   "source": [
    "num_col=df._get_numeric_data().columns #num columns"
   ]
  },
  {
   "cell_type": "code",
   "execution_count": 9,
   "id": "12081cea",
   "metadata": {},
   "outputs": [
    {
     "data": {
      "text/plain": [
       "Index(['employee_id', 'no_of_trainings', 'age', 'previous_year_rating',\n",
       "       'length_of_service', 'awards_won', 'avg_training_score', 'is_promoted'],\n",
       "      dtype='object')"
      ]
     },
     "execution_count": 9,
     "metadata": {},
     "output_type": "execute_result"
    }
   ],
   "source": [
    "num_col"
   ]
  },
  {
   "cell_type": "code",
   "execution_count": 10,
   "id": "efe723ea",
   "metadata": {},
   "outputs": [
    {
     "data": {
      "text/plain": [
       "8"
      ]
     },
     "execution_count": 10,
     "metadata": {},
     "output_type": "execute_result"
    }
   ],
   "source": [
    "len(num_col) #Length"
   ]
  },
  {
   "cell_type": "code",
   "execution_count": 11,
   "id": "341da44d",
   "metadata": {},
   "outputs": [],
   "source": [
    "NUM=df[num_col]"
   ]
  },
  {
   "cell_type": "code",
   "execution_count": 12,
   "id": "d2691008",
   "metadata": {},
   "outputs": [
    {
     "data": {
      "text/html": [
       "<div>\n",
       "<style scoped>\n",
       "    .dataframe tbody tr th:only-of-type {\n",
       "        vertical-align: middle;\n",
       "    }\n",
       "\n",
       "    .dataframe tbody tr th {\n",
       "        vertical-align: top;\n",
       "    }\n",
       "\n",
       "    .dataframe thead th {\n",
       "        text-align: right;\n",
       "    }\n",
       "</style>\n",
       "<table border=\"1\" class=\"dataframe\">\n",
       "  <thead>\n",
       "    <tr style=\"text-align: right;\">\n",
       "      <th></th>\n",
       "      <th>employee_id</th>\n",
       "      <th>no_of_trainings</th>\n",
       "      <th>age</th>\n",
       "      <th>previous_year_rating</th>\n",
       "      <th>length_of_service</th>\n",
       "      <th>awards_won</th>\n",
       "      <th>avg_training_score</th>\n",
       "      <th>is_promoted</th>\n",
       "    </tr>\n",
       "  </thead>\n",
       "  <tbody>\n",
       "    <tr>\n",
       "      <th>0</th>\n",
       "      <td>65438</td>\n",
       "      <td>1</td>\n",
       "      <td>35</td>\n",
       "      <td>5.0</td>\n",
       "      <td>8</td>\n",
       "      <td>0</td>\n",
       "      <td>49.0</td>\n",
       "      <td>0</td>\n",
       "    </tr>\n",
       "    <tr>\n",
       "      <th>1</th>\n",
       "      <td>65141</td>\n",
       "      <td>1</td>\n",
       "      <td>30</td>\n",
       "      <td>5.0</td>\n",
       "      <td>4</td>\n",
       "      <td>0</td>\n",
       "      <td>60.0</td>\n",
       "      <td>0</td>\n",
       "    </tr>\n",
       "    <tr>\n",
       "      <th>2</th>\n",
       "      <td>7513</td>\n",
       "      <td>1</td>\n",
       "      <td>34</td>\n",
       "      <td>3.0</td>\n",
       "      <td>7</td>\n",
       "      <td>0</td>\n",
       "      <td>50.0</td>\n",
       "      <td>0</td>\n",
       "    </tr>\n",
       "    <tr>\n",
       "      <th>3</th>\n",
       "      <td>2542</td>\n",
       "      <td>2</td>\n",
       "      <td>39</td>\n",
       "      <td>1.0</td>\n",
       "      <td>10</td>\n",
       "      <td>0</td>\n",
       "      <td>50.0</td>\n",
       "      <td>0</td>\n",
       "    </tr>\n",
       "    <tr>\n",
       "      <th>4</th>\n",
       "      <td>48945</td>\n",
       "      <td>1</td>\n",
       "      <td>45</td>\n",
       "      <td>3.0</td>\n",
       "      <td>2</td>\n",
       "      <td>0</td>\n",
       "      <td>73.0</td>\n",
       "      <td>0</td>\n",
       "    </tr>\n",
       "  </tbody>\n",
       "</table>\n",
       "</div>"
      ],
      "text/plain": [
       "   employee_id  no_of_trainings  age  previous_year_rating  length_of_service  \\\n",
       "0        65438                1   35                   5.0                  8   \n",
       "1        65141                1   30                   5.0                  4   \n",
       "2         7513                1   34                   3.0                  7   \n",
       "3         2542                2   39                   1.0                 10   \n",
       "4        48945                1   45                   3.0                  2   \n",
       "\n",
       "   awards_won  avg_training_score  is_promoted  \n",
       "0           0                49.0            0  \n",
       "1           0                60.0            0  \n",
       "2           0                50.0            0  \n",
       "3           0                50.0            0  \n",
       "4           0                73.0            0  "
      ]
     },
     "execution_count": 12,
     "metadata": {},
     "output_type": "execute_result"
    }
   ],
   "source": [
    "NUM.head()"
   ]
  },
  {
   "cell_type": "code",
   "execution_count": 13,
   "id": "f92eab04",
   "metadata": {},
   "outputs": [],
   "source": [
    "cat_col=[col for col in df.columns if col not in NUM] #data object"
   ]
  },
  {
   "cell_type": "code",
   "execution_count": 56,
   "id": "b3b403ec",
   "metadata": {},
   "outputs": [
    {
     "data": {
      "text/plain": [
       "['department', 'region', 'education', 'gender', 'recruitment_channel']"
      ]
     },
     "execution_count": 56,
     "metadata": {},
     "output_type": "execute_result"
    }
   ],
   "source": [
    "cat_col"
   ]
  },
  {
   "cell_type": "code",
   "execution_count": 57,
   "id": "a833a842",
   "metadata": {},
   "outputs": [
    {
     "data": {
      "text/plain": [
       "5"
      ]
     },
     "execution_count": 57,
     "metadata": {},
     "output_type": "execute_result"
    }
   ],
   "source": [
    "len(cat_col)"
   ]
  },
  {
   "cell_type": "code",
   "execution_count": 58,
   "id": "6c5eb91e",
   "metadata": {},
   "outputs": [],
   "source": [
    "H=df[cat_col]"
   ]
  },
  {
   "cell_type": "code",
   "execution_count": 59,
   "id": "6f4d646d",
   "metadata": {},
   "outputs": [
    {
     "data": {
      "text/html": [
       "<div>\n",
       "<style scoped>\n",
       "    .dataframe tbody tr th:only-of-type {\n",
       "        vertical-align: middle;\n",
       "    }\n",
       "\n",
       "    .dataframe tbody tr th {\n",
       "        vertical-align: top;\n",
       "    }\n",
       "\n",
       "    .dataframe thead th {\n",
       "        text-align: right;\n",
       "    }\n",
       "</style>\n",
       "<table border=\"1\" class=\"dataframe\">\n",
       "  <thead>\n",
       "    <tr style=\"text-align: right;\">\n",
       "      <th></th>\n",
       "      <th>department</th>\n",
       "      <th>region</th>\n",
       "      <th>education</th>\n",
       "      <th>gender</th>\n",
       "      <th>recruitment_channel</th>\n",
       "    </tr>\n",
       "  </thead>\n",
       "  <tbody>\n",
       "    <tr>\n",
       "      <th>498</th>\n",
       "      <td>Operations</td>\n",
       "      <td>region_16</td>\n",
       "      <td>Bachelor's</td>\n",
       "      <td>m</td>\n",
       "      <td>other</td>\n",
       "    </tr>\n",
       "    <tr>\n",
       "      <th>40268</th>\n",
       "      <td>Technology</td>\n",
       "      <td>region_12</td>\n",
       "      <td>Bachelor's</td>\n",
       "      <td>m</td>\n",
       "      <td>other</td>\n",
       "    </tr>\n",
       "    <tr>\n",
       "      <th>53450</th>\n",
       "      <td>Analytics</td>\n",
       "      <td>region_25</td>\n",
       "      <td>Master's &amp; above</td>\n",
       "      <td>m</td>\n",
       "      <td>other</td>\n",
       "    </tr>\n",
       "  </tbody>\n",
       "</table>\n",
       "</div>"
      ],
      "text/plain": [
       "       department     region         education gender recruitment_channel\n",
       "498    Operations  region_16        Bachelor's      m               other\n",
       "40268  Technology  region_12        Bachelor's      m               other\n",
       "53450   Analytics  region_25  Master's & above      m               other"
      ]
     },
     "execution_count": 59,
     "metadata": {},
     "output_type": "execute_result"
    }
   ],
   "source": [
    "H.sample(3)"
   ]
  },
  {
   "cell_type": "code",
   "execution_count": 60,
   "id": "918a42b4",
   "metadata": {},
   "outputs": [
    {
     "data": {
      "text/plain": [
       "int64      6\n",
       "object     5\n",
       "float64    2\n",
       "dtype: int64"
      ]
     },
     "execution_count": 60,
     "metadata": {},
     "output_type": "execute_result"
    }
   ],
   "source": [
    "df.dtypes.value_counts() #data type"
   ]
  },
  {
   "cell_type": "code",
   "execution_count": null,
   "id": "09068990",
   "metadata": {},
   "outputs": [],
   "source": []
  },
  {
   "cell_type": "code",
   "execution_count": 62,
   "id": "df66b639",
   "metadata": {},
   "outputs": [
    {
     "data": {
      "text/plain": [
       "employee_id               int64\n",
       "department               object\n",
       "region                   object\n",
       "education                object\n",
       "gender                   object\n",
       "recruitment_channel      object\n",
       "no_of_trainings           int64\n",
       "age                       int64\n",
       "previous_year_rating    float64\n",
       "length_of_service         int64\n",
       "awards_won                int64\n",
       "avg_training_score      float64\n",
       "is_promoted               int64\n",
       "dtype: object"
      ]
     },
     "execution_count": 62,
     "metadata": {},
     "output_type": "execute_result"
    }
   ],
   "source": [
    "df.dtypes"
   ]
  },
  {
   "cell_type": "code",
   "execution_count": 63,
   "id": "5b0f431a",
   "metadata": {},
   "outputs": [
    {
     "data": {
      "text/plain": [
       "Sales & Marketing    16840\n",
       "Operations           11348\n",
       "Technology            7138\n",
       "Procurement           7138\n",
       "Analytics             5352\n",
       "Finance               2536\n",
       "HR                    2418\n",
       "Legal                 1039\n",
       "R&D                    999\n",
       "Name: department, dtype: int64"
      ]
     },
     "execution_count": 63,
     "metadata": {},
     "output_type": "execute_result"
    }
   ],
   "source": [
    "df['department'].value_counts()"
   ]
  },
  {
   "cell_type": "code",
   "execution_count": 27,
   "id": "7e519580",
   "metadata": {},
   "outputs": [
    {
     "data": {
      "text/plain": [
       "Bachelor's          36669\n",
       "Master's & above    14925\n",
       "Below Secondary       805\n",
       "Name: education, dtype: int64"
      ]
     },
     "execution_count": 27,
     "metadata": {},
     "output_type": "execute_result"
    }
   ],
   "source": [
    "df['education'].value_counts()"
   ]
  },
  {
   "cell_type": "code",
   "execution_count": 64,
   "id": "021c21e0",
   "metadata": {
    "scrolled": true
   },
   "outputs": [
    {
     "data": {
      "text/html": [
       "<style type=\"text/css\">\n",
       "#T_016af_row0_col0 {\n",
       "  background-color: #dd8c59;\n",
       "  color: #f1f1f1;\n",
       "}\n",
       "#T_016af_row0_col1, #T_016af_row0_col2, #T_016af_row0_col3, #T_016af_row0_col4, #T_016af_row0_col5, #T_016af_row0_col6, #T_016af_row0_col7, #T_016af_row7_col0 {\n",
       "  background-color: #ffc77f;\n",
       "  color: #000000;\n",
       "}\n",
       "#T_016af_row1_col0, #T_016af_row5_col0 {\n",
       "  background-color: #9e6440;\n",
       "  color: #f1f1f1;\n",
       "}\n",
       "#T_016af_row1_col1, #T_016af_row1_col2, #T_016af_row1_col3, #T_016af_row1_col4, #T_016af_row1_col5, #T_016af_row1_col6, #T_016af_row1_col7, #T_016af_row2_col1, #T_016af_row2_col2, #T_016af_row2_col3, #T_016af_row2_col4, #T_016af_row2_col5, #T_016af_row2_col6, #T_016af_row2_col7, #T_016af_row3_col0, #T_016af_row3_col1, #T_016af_row3_col2, #T_016af_row3_col3, #T_016af_row3_col4, #T_016af_row3_col5, #T_016af_row3_col6, #T_016af_row3_col7, #T_016af_row4_col1, #T_016af_row4_col2, #T_016af_row4_col3, #T_016af_row4_col4, #T_016af_row4_col5, #T_016af_row4_col6, #T_016af_row4_col7, #T_016af_row5_col1, #T_016af_row5_col2, #T_016af_row5_col3, #T_016af_row5_col4, #T_016af_row5_col5, #T_016af_row5_col6, #T_016af_row5_col7, #T_016af_row6_col1, #T_016af_row6_col2, #T_016af_row6_col3, #T_016af_row6_col4, #T_016af_row6_col5, #T_016af_row6_col6, #T_016af_row6_col7, #T_016af_row7_col1, #T_016af_row7_col2, #T_016af_row7_col3, #T_016af_row7_col4, #T_016af_row7_col5, #T_016af_row7_col6, #T_016af_row7_col7 {\n",
       "  background-color: #000000;\n",
       "  color: #f1f1f1;\n",
       "}\n",
       "#T_016af_row2_col0 {\n",
       "  background-color: #5a3924;\n",
       "  color: #f1f1f1;\n",
       "}\n",
       "#T_016af_row4_col0 {\n",
       "  background-color: #4f3220;\n",
       "  color: #f1f1f1;\n",
       "}\n",
       "#T_016af_row6_col0 {\n",
       "  background-color: #ed9660;\n",
       "  color: #f1f1f1;\n",
       "}\n",
       "</style>\n",
       "<table id=\"T_016af\">\n",
       "  <thead>\n",
       "    <tr>\n",
       "      <th class=\"blank level0\" >&nbsp;</th>\n",
       "      <th id=\"T_016af_level0_col0\" class=\"col_heading level0 col0\" >employee_id</th>\n",
       "      <th id=\"T_016af_level0_col1\" class=\"col_heading level0 col1\" >no_of_trainings</th>\n",
       "      <th id=\"T_016af_level0_col2\" class=\"col_heading level0 col2\" >age</th>\n",
       "      <th id=\"T_016af_level0_col3\" class=\"col_heading level0 col3\" >previous_year_rating</th>\n",
       "      <th id=\"T_016af_level0_col4\" class=\"col_heading level0 col4\" >length_of_service</th>\n",
       "      <th id=\"T_016af_level0_col5\" class=\"col_heading level0 col5\" >awards_won</th>\n",
       "      <th id=\"T_016af_level0_col6\" class=\"col_heading level0 col6\" >avg_training_score</th>\n",
       "      <th id=\"T_016af_level0_col7\" class=\"col_heading level0 col7\" >is_promoted</th>\n",
       "    </tr>\n",
       "  </thead>\n",
       "  <tbody>\n",
       "    <tr>\n",
       "      <th id=\"T_016af_level0_row0\" class=\"row_heading level0 row0\" >count</th>\n",
       "      <td id=\"T_016af_row0_col0\" class=\"data row0 col0\" >54808.000000</td>\n",
       "      <td id=\"T_016af_row0_col1\" class=\"data row0 col1\" >54808.000000</td>\n",
       "      <td id=\"T_016af_row0_col2\" class=\"data row0 col2\" >54808.000000</td>\n",
       "      <td id=\"T_016af_row0_col3\" class=\"data row0 col3\" >54808.000000</td>\n",
       "      <td id=\"T_016af_row0_col4\" class=\"data row0 col4\" >54808.000000</td>\n",
       "      <td id=\"T_016af_row0_col5\" class=\"data row0 col5\" >54808.000000</td>\n",
       "      <td id=\"T_016af_row0_col6\" class=\"data row0 col6\" >54808.000000</td>\n",
       "      <td id=\"T_016af_row0_col7\" class=\"data row0 col7\" >54808.000000</td>\n",
       "    </tr>\n",
       "    <tr>\n",
       "      <th id=\"T_016af_level0_row1\" class=\"row_heading level0 row1\" >mean</th>\n",
       "      <td id=\"T_016af_row1_col0\" class=\"data row1 col0\" >39195.830627</td>\n",
       "      <td id=\"T_016af_row1_col1\" class=\"data row1 col1\" >1.253011</td>\n",
       "      <td id=\"T_016af_row1_col2\" class=\"data row1 col2\" >34.803915</td>\n",
       "      <td id=\"T_016af_row1_col3\" class=\"data row1 col3\" >3.078748</td>\n",
       "      <td id=\"T_016af_row1_col4\" class=\"data row1 col4\" >5.865512</td>\n",
       "      <td id=\"T_016af_row1_col5\" class=\"data row1 col5\" >0.023172</td>\n",
       "      <td id=\"T_016af_row1_col6\" class=\"data row1 col6\" >60.736334</td>\n",
       "      <td id=\"T_016af_row1_col7\" class=\"data row1 col7\" >0.085170</td>\n",
       "    </tr>\n",
       "    <tr>\n",
       "      <th id=\"T_016af_level0_row2\" class=\"row_heading level0 row2\" >std</th>\n",
       "      <td id=\"T_016af_row2_col0\" class=\"data row2 col0\" >22586.581449</td>\n",
       "      <td id=\"T_016af_row2_col1\" class=\"data row2 col1\" >0.609264</td>\n",
       "      <td id=\"T_016af_row2_col2\" class=\"data row2 col2\" >7.660169</td>\n",
       "      <td id=\"T_016af_row2_col3\" class=\"data row2 col3\" >1.496458</td>\n",
       "      <td id=\"T_016af_row2_col4\" class=\"data row2 col4\" >4.265094</td>\n",
       "      <td id=\"T_016af_row2_col5\" class=\"data row2 col5\" >0.150450</td>\n",
       "      <td id=\"T_016af_row2_col6\" class=\"data row2 col6\" >18.842781</td>\n",
       "      <td id=\"T_016af_row2_col7\" class=\"data row2 col7\" >0.279137</td>\n",
       "    </tr>\n",
       "    <tr>\n",
       "      <th id=\"T_016af_level0_row3\" class=\"row_heading level0 row3\" >min</th>\n",
       "      <td id=\"T_016af_row3_col0\" class=\"data row3 col0\" >1.000000</td>\n",
       "      <td id=\"T_016af_row3_col1\" class=\"data row3 col1\" >1.000000</td>\n",
       "      <td id=\"T_016af_row3_col2\" class=\"data row3 col2\" >20.000000</td>\n",
       "      <td id=\"T_016af_row3_col3\" class=\"data row3 col3\" >0.000000</td>\n",
       "      <td id=\"T_016af_row3_col4\" class=\"data row3 col4\" >1.000000</td>\n",
       "      <td id=\"T_016af_row3_col5\" class=\"data row3 col5\" >0.000000</td>\n",
       "      <td id=\"T_016af_row3_col6\" class=\"data row3 col6\" >0.000000</td>\n",
       "      <td id=\"T_016af_row3_col7\" class=\"data row3 col7\" >0.000000</td>\n",
       "    </tr>\n",
       "    <tr>\n",
       "      <th id=\"T_016af_level0_row4\" class=\"row_heading level0 row4\" >25%</th>\n",
       "      <td id=\"T_016af_row4_col0\" class=\"data row4 col0\" >19669.750000</td>\n",
       "      <td id=\"T_016af_row4_col1\" class=\"data row4 col1\" >1.000000</td>\n",
       "      <td id=\"T_016af_row4_col2\" class=\"data row4 col2\" >29.000000</td>\n",
       "      <td id=\"T_016af_row4_col3\" class=\"data row4 col3\" >2.000000</td>\n",
       "      <td id=\"T_016af_row4_col4\" class=\"data row4 col4\" >3.000000</td>\n",
       "      <td id=\"T_016af_row4_col5\" class=\"data row4 col5\" >0.000000</td>\n",
       "      <td id=\"T_016af_row4_col6\" class=\"data row4 col6\" >50.000000</td>\n",
       "      <td id=\"T_016af_row4_col7\" class=\"data row4 col7\" >0.000000</td>\n",
       "    </tr>\n",
       "    <tr>\n",
       "      <th id=\"T_016af_level0_row5\" class=\"row_heading level0 row5\" >50%</th>\n",
       "      <td id=\"T_016af_row5_col0\" class=\"data row5 col0\" >39225.500000</td>\n",
       "      <td id=\"T_016af_row5_col1\" class=\"data row5 col1\" >1.000000</td>\n",
       "      <td id=\"T_016af_row5_col2\" class=\"data row5 col2\" >33.000000</td>\n",
       "      <td id=\"T_016af_row5_col3\" class=\"data row5 col3\" >3.000000</td>\n",
       "      <td id=\"T_016af_row5_col4\" class=\"data row5 col4\" >5.000000</td>\n",
       "      <td id=\"T_016af_row5_col5\" class=\"data row5 col5\" >0.000000</td>\n",
       "      <td id=\"T_016af_row5_col6\" class=\"data row5 col6\" >59.000000</td>\n",
       "      <td id=\"T_016af_row5_col7\" class=\"data row5 col7\" >0.000000</td>\n",
       "    </tr>\n",
       "    <tr>\n",
       "      <th id=\"T_016af_level0_row6\" class=\"row_heading level0 row6\" >75%</th>\n",
       "      <td id=\"T_016af_row6_col0\" class=\"data row6 col0\" >58730.500000</td>\n",
       "      <td id=\"T_016af_row6_col1\" class=\"data row6 col1\" >1.000000</td>\n",
       "      <td id=\"T_016af_row6_col2\" class=\"data row6 col2\" >39.000000</td>\n",
       "      <td id=\"T_016af_row6_col3\" class=\"data row6 col3\" >4.000000</td>\n",
       "      <td id=\"T_016af_row6_col4\" class=\"data row6 col4\" >7.000000</td>\n",
       "      <td id=\"T_016af_row6_col5\" class=\"data row6 col5\" >0.000000</td>\n",
       "      <td id=\"T_016af_row6_col6\" class=\"data row6 col6\" >76.000000</td>\n",
       "      <td id=\"T_016af_row6_col7\" class=\"data row6 col7\" >0.000000</td>\n",
       "    </tr>\n",
       "    <tr>\n",
       "      <th id=\"T_016af_level0_row7\" class=\"row_heading level0 row7\" >max</th>\n",
       "      <td id=\"T_016af_row7_col0\" class=\"data row7 col0\" >78298.000000</td>\n",
       "      <td id=\"T_016af_row7_col1\" class=\"data row7 col1\" >10.000000</td>\n",
       "      <td id=\"T_016af_row7_col2\" class=\"data row7 col2\" >60.000000</td>\n",
       "      <td id=\"T_016af_row7_col3\" class=\"data row7 col3\" >5.000000</td>\n",
       "      <td id=\"T_016af_row7_col4\" class=\"data row7 col4\" >37.000000</td>\n",
       "      <td id=\"T_016af_row7_col5\" class=\"data row7 col5\" >1.000000</td>\n",
       "      <td id=\"T_016af_row7_col6\" class=\"data row7 col6\" >99.000000</td>\n",
       "      <td id=\"T_016af_row7_col7\" class=\"data row7 col7\" >1.000000</td>\n",
       "    </tr>\n",
       "  </tbody>\n",
       "</table>\n"
      ],
      "text/plain": [
       "<pandas.io.formats.style.Styler at 0x20c858cb6a0>"
      ]
     },
     "execution_count": 64,
     "metadata": {},
     "output_type": "execute_result"
    }
   ],
   "source": [
    "df.describe().style.background_gradient(cmap = 'copper') #descriptive statistics"
   ]
  },
  {
   "cell_type": "code",
   "execution_count": 65,
   "id": "d1ad3744",
   "metadata": {},
   "outputs": [],
   "source": [
    "min=df['length_of_service'].min() #descriptive statistics"
   ]
  },
  {
   "cell_type": "code",
   "execution_count": 66,
   "id": "bdfeb890",
   "metadata": {},
   "outputs": [
    {
     "data": {
      "text/plain": [
       "1"
      ]
     },
     "execution_count": 66,
     "metadata": {},
     "output_type": "execute_result"
    }
   ],
   "source": [
    "min"
   ]
  },
  {
   "cell_type": "code",
   "execution_count": 67,
   "id": "31565baa",
   "metadata": {},
   "outputs": [
    {
     "data": {
      "text/html": [
       "<div>\n",
       "<style scoped>\n",
       "    .dataframe tbody tr th:only-of-type {\n",
       "        vertical-align: middle;\n",
       "    }\n",
       "\n",
       "    .dataframe tbody tr th {\n",
       "        vertical-align: top;\n",
       "    }\n",
       "\n",
       "    .dataframe thead th {\n",
       "        text-align: right;\n",
       "    }\n",
       "</style>\n",
       "<table border=\"1\" class=\"dataframe\">\n",
       "  <thead>\n",
       "    <tr style=\"text-align: right;\">\n",
       "      <th></th>\n",
       "      <th>department</th>\n",
       "      <th>region</th>\n",
       "      <th>education</th>\n",
       "      <th>gender</th>\n",
       "      <th>recruitment_channel</th>\n",
       "    </tr>\n",
       "  </thead>\n",
       "  <tbody>\n",
       "    <tr>\n",
       "      <th>count</th>\n",
       "      <td>54808</td>\n",
       "      <td>54808</td>\n",
       "      <td>54808</td>\n",
       "      <td>54808</td>\n",
       "      <td>54808</td>\n",
       "    </tr>\n",
       "    <tr>\n",
       "      <th>unique</th>\n",
       "      <td>9</td>\n",
       "      <td>34</td>\n",
       "      <td>4</td>\n",
       "      <td>2</td>\n",
       "      <td>3</td>\n",
       "    </tr>\n",
       "    <tr>\n",
       "      <th>top</th>\n",
       "      <td>Sales &amp; Marketing</td>\n",
       "      <td>region_2</td>\n",
       "      <td>Bachelor's</td>\n",
       "      <td>m</td>\n",
       "      <td>other</td>\n",
       "    </tr>\n",
       "    <tr>\n",
       "      <th>freq</th>\n",
       "      <td>16840</td>\n",
       "      <td>12343</td>\n",
       "      <td>36669</td>\n",
       "      <td>38496</td>\n",
       "      <td>30446</td>\n",
       "    </tr>\n",
       "  </tbody>\n",
       "</table>\n",
       "</div>"
      ],
      "text/plain": [
       "               department    region   education gender recruitment_channel\n",
       "count               54808     54808       54808  54808               54808\n",
       "unique                  9        34           4      2                   3\n",
       "top     Sales & Marketing  region_2  Bachelor's      m               other\n",
       "freq                16840     12343       36669  38496               30446"
      ]
     },
     "execution_count": 67,
     "metadata": {},
     "output_type": "execute_result"
    }
   ],
   "source": [
    "df.describe(include = 'object')"
   ]
  },
  {
   "cell_type": "code",
   "execution_count": 68,
   "id": "40036712",
   "metadata": {},
   "outputs": [],
   "source": [
    "count=df['department'].count()"
   ]
  },
  {
   "cell_type": "code",
   "execution_count": 69,
   "id": "96049b81",
   "metadata": {},
   "outputs": [
    {
     "data": {
      "text/plain": [
       "54808"
      ]
     },
     "execution_count": 69,
     "metadata": {},
     "output_type": "execute_result"
    }
   ],
   "source": [
    "count"
   ]
  },
  {
   "cell_type": "markdown",
   "id": "d1cd0241",
   "metadata": {},
   "source": [
    "Data visualization"
   ]
  },
  {
   "cell_type": "code",
   "execution_count": 70,
   "id": "339843b5",
   "metadata": {},
   "outputs": [
    {
     "data": {
      "image/png": "[encoded data removed]",
      "text/plain": [
       "<Figure size 720x720 with 9 Axes>"
      ]
     },
     "metadata": {},
     "output_type": "display_data"
    }
   ],
   "source": [
    "NUM.hist(figsize=(10,10)); "
   ]
  },
  {
   "cell_type": "code",
   "execution_count": 71,
   "id": "6b015cf1",
   "metadata": {},
   "outputs": [
    {
     "data": {
      "text/plain": [
       "<AxesSubplot:>"
      ]
     },
     "execution_count": 71,
     "metadata": {},
     "output_type": "execute_result"
    },
    {
     "data": {
      "image/png": "[encoded data removed]",
      "text/plain": [
       "<Figure size 720x720 with 1 Axes>"
      ]
     },
     "metadata": {},
     "output_type": "display_data"
    }
   ],
   "source": [
    "df['age'].plot(kind='box')"
   ]
  },
  {
   "cell_type": "code",
   "execution_count": 77,
   "id": "bf27af85",
   "metadata": {},
   "outputs": [
    {
     "data": {
      "image/png": "[encoded data removed]",
      "text/plain": [
       "<Figure size 720x720 with 2 Axes>"
      ]
     },
     "metadata": {},
     "output_type": "display_data"
    }
   ],
   "source": [
    "fig,ax=plt.subplots(figsize=(10,10))\n",
    "sns.heatmap(df.corr(), annot=True,linewidths=.5, ax=ax, cmap=\"YlGnBu\");"
   ]
  },
  {
   "cell_type": "code",
   "execution_count": null,
   "id": "3a89c5cc",
   "metadata": {},
   "outputs": [],
   "source": []
  }
 ],
 "metadata": {
  "kernelspec": {
   "display_name": "Python 3 (ipykernel)",
   "language": "python",
   "name": "python3"
  },
  "language_info": {
   "codemirror_mode": {
    "name": "ipython",
    "version": 3
   },
   "file_extension": ".py",
   "mimetype": "text/x-python",
   "name": "python",
   "nbconvert_exporter": "python",
   "pygments_lexer": "ipython3",
   "version": "3.9.12"
  }
 },
 "nbformat": 4,
 "nbformat_minor": 5
}
